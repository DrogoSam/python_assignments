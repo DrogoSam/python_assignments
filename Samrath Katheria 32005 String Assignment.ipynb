{
 "cells": [
  {
   "cell_type": "markdown",
   "id": "de774a10-798d-4300-9312-c62d14e47bb3",
   "metadata": {},
   "source": [
    "1. How do you concatenate two strings in Python?"
   ]
  },
  {
   "cell_type": "code",
   "execution_count": 63,
   "id": "dd9172f7-719c-4fdd-869c-d655d37cba0f",
   "metadata": {},
   "outputs": [
    {
     "name": "stdout",
     "output_type": "stream",
     "text": [
      "Hello, my name is Samrath and I am 24 years old.\n"
     ]
    }
   ],
   "source": [
    "name = \"Samrath\"\n",
    "age = 24\n",
    "result = f\"Hello, my name is {name} and I am {age} years old.\"\n",
    "print(result)"
   ]
  },
  {
   "cell_type": "markdown",
   "id": "c733e02e-2a7f-46a9-872b-9bebc5e99e82",
   "metadata": {},
   "source": [
    "2. What is the difference between the + operator and the join() method for\n",
    "concatenating strings?"
   ]
  },
  {
   "cell_type": "raw",
   "id": "f578a9bc-0eea-4d2b-b0da-038e9e30b129",
   "metadata": {},
   "source": [
    "+ operator"
   ]
  },
  {
   "cell_type": "code",
   "execution_count": 5,
   "id": "f8597445-ef45-4a19-a4e4-008c7264108b",
   "metadata": {},
   "outputs": [
    {
     "name": "stdout",
     "output_type": "stream",
     "text": [
      "DUCAT\n"
     ]
    }
   ],
   "source": [
    "str1 = \"DU\"\n",
    "str2 = \"CAT\"\n",
    "result = str1 + str2 \n",
    "print(result)"
   ]
  },
  {
   "cell_type": "raw",
   "id": "b3dc9664-da8e-44e3-b2d2-b39ca01590f0",
   "metadata": {},
   "source": [
    "join() method"
   ]
  },
  {
   "cell_type": "code",
   "execution_count": 7,
   "id": "ea7436eb-069a-4cc4-acb6-b65c48b54589",
   "metadata": {},
   "outputs": [
    {
     "name": "stdout",
     "output_type": "stream",
     "text": [
      "DUCAT\n"
     ]
    }
   ],
   "source": [
    "words = [\"DU\",\"CAT\"]\n",
    "result = \"\".join(words) \n",
    "print(result)"
   ]
  },
  {
   "cell_type": "markdown",
   "id": "64924bb9-17a8-4aa9-9c0f-80a529c93ac6",
   "metadata": {},
   "source": [
    "3. How do you access individual characters in a string?"
   ]
  },
  {
   "cell_type": "code",
   "execution_count": 9,
   "id": "a8b8918a-4140-423f-af12-b5acd9aac25b",
   "metadata": {},
   "outputs": [
    {
     "name": "stdout",
     "output_type": "stream",
     "text": [
      "S\n",
      "K\n"
     ]
    }
   ],
   "source": [
    "string = \"Samrath Katheria\"\n",
    "\n",
    "print(string[0])\n",
    "print(string[8])"
   ]
  },
  {
   "cell_type": "markdown",
   "id": "52eb9df1-35a5-4db1-8e77-a36755d95b3b",
   "metadata": {},
   "source": [
    "4. What method is used to find the length of a string in Python?"
   ]
  },
  {
   "cell_type": "code",
   "execution_count": 11,
   "id": "7f7b6ccc-a2cc-4d48-b3ee-f18e747d6c05",
   "metadata": {},
   "outputs": [
    {
     "name": "stdout",
     "output_type": "stream",
     "text": [
      "16\n"
     ]
    }
   ],
   "source": [
    "string = \"Samrath Katheria\"\n",
    "length = len(string)\n",
    "print(length)"
   ]
  },
  {
   "cell_type": "markdown",
   "id": "8719e05d-f9ee-4778-888c-e1a03fa458be",
   "metadata": {},
   "source": [
    "5. How can you convert a string to uppercase in Python?"
   ]
  },
  {
   "cell_type": "code",
   "execution_count": 13,
   "id": "e1009a1d-0d0d-4862-a039-c19f10513602",
   "metadata": {},
   "outputs": [
    {
     "name": "stdout",
     "output_type": "stream",
     "text": [
      "SAMRATH KATHERIA\n"
     ]
    }
   ],
   "source": [
    "string = \"sAmrAth KathERIa\"\n",
    "uppercase_string = string.upper()\n",
    "print(uppercase_string)"
   ]
  },
  {
   "cell_type": "markdown",
   "id": "17a5766b-7e0e-4d78-9c47-575bbfeee30d",
   "metadata": {},
   "source": [
    "6. How can you convert a string to lowercase in Python?"
   ]
  },
  {
   "cell_type": "code",
   "execution_count": 65,
   "id": "3a96b920-dea2-44da-a156-936852617a4b",
   "metadata": {},
   "outputs": [
    {
     "name": "stdout",
     "output_type": "stream",
     "text": [
      "samrath katheria\n"
     ]
    }
   ],
   "source": [
    "text = \"SAMrath kATheRIa\"\n",
    "lowercase_text = text.lower()\n",
    "\n",
    "print(lowercase_text)"
   ]
  },
  {
   "cell_type": "markdown",
   "id": "203fcbf2-0951-4f61-8478-83ca2fe7d0d8",
   "metadata": {},
   "source": [
    "7. What method is used to replace substrings within a string?"
   ]
  },
  {
   "cell_type": "code",
   "execution_count": 17,
   "id": "7ddd4ef5-d445-4d6c-94f6-ad9635aada0b",
   "metadata": {},
   "outputs": [
    {
     "name": "stdout",
     "output_type": "stream",
     "text": [
      "Samrath Katheria\n"
     ]
    }
   ],
   "source": [
    "text = \"Samrath Khan\"\n",
    "new_text = text.replace(\"Khan\", \"Katheria\")\n",
    "print(new_text)"
   ]
  },
  {
   "cell_type": "markdown",
   "id": "4f9fe686-0e15-4c8a-9e67-1753fa452f67",
   "metadata": {},
   "source": [
    "8. How can you split a string into a list of substrings based on a delimiter?"
   ]
  },
  {
   "cell_type": "code",
   "execution_count": 19,
   "id": "094d1587-0ae5-49ca-9560-6c02c6d224ec",
   "metadata": {},
   "outputs": [
    {
     "name": "stdout",
     "output_type": "stream",
     "text": [
      "['Hello', ' world! This is a Python example.']\n",
      "['Hello,', 'world!', 'This is a Python example.']\n"
     ]
    }
   ],
   "source": [
    "text = \"Hello, world! This is a Python example.\"\n",
    "words = text.split(\",\")\n",
    "print(words)\n",
    "words = text.split(\" \", 2)\n",
    "print(words)"
   ]
  },
  {
   "cell_type": "markdown",
   "id": "ccce6b42-3da7-49bf-a349-bbaf7de98609",
   "metadata": {},
   "source": [
    "9. How do you check if a string starts with a particular substring?"
   ]
  },
  {
   "cell_type": "code",
   "execution_count": 21,
   "id": "bfef11e7-2eea-4b60-9074-86605462f0a9",
   "metadata": {},
   "outputs": [
    {
     "name": "stdout",
     "output_type": "stream",
     "text": [
      "The string starts with the substring.\n"
     ]
    }
   ],
   "source": [
    "string = \"Hello, World!\"\n",
    "substring = \"Hello\"\n",
    "\n",
    "if string.startswith(substring):\n",
    "  print(\"The string starts with the substring.\")\n",
    "else:\n",
    "  print(\"The string does not start with the substring.\")"
   ]
  },
  {
   "cell_type": "markdown",
   "id": "da62fdb0-234e-45f2-b255-1feeba8537d3",
   "metadata": {},
   "source": [
    "10. How do you check if a string ends with a particular substring?"
   ]
  },
  {
   "cell_type": "code",
   "execution_count": 23,
   "id": "c3f986a5-b7b6-4893-a710-c59e1a5de5a8",
   "metadata": {},
   "outputs": [
    {
     "name": "stdout",
     "output_type": "stream",
     "text": [
      "The string ends with 'world!'\n"
     ]
    }
   ],
   "source": [
    "text = \"Hello, world!\"\n",
    "\n",
    "if text.endswith(\"world!\"):\n",
    "    print(\"The string ends with 'world!'\")\n",
    "else:\n",
    "    print(\"The string does not end with 'world!'\")"
   ]
  },
  {
   "cell_type": "markdown",
   "id": "11ccc32f-cc95-43c1-9555-1217b2fbd52f",
   "metadata": {},
   "source": [
    "11. How can you remove leading and trailing whitespace from a string?"
   ]
  },
  {
   "cell_type": "code",
   "execution_count": 25,
   "id": "20065c8b-927b-4b01-81e5-7a0f54503a98",
   "metadata": {},
   "outputs": [
    {
     "name": "stdout",
     "output_type": "stream",
     "text": [
      "Samrath Katheria\n"
     ]
    }
   ],
   "source": [
    "string = \"  Samrath Katheria   \"\n",
    "trimmed_string = string.strip() \n",
    "\n",
    "print(trimmed_string)"
   ]
  },
  {
   "cell_type": "markdown",
   "id": "c2aa16c3-1c01-43db-b7b9-fb5efa4a666a",
   "metadata": {},
   "source": [
    "12. What method is used to find the index of the first occurrence of a substring within a\n",
    "string?"
   ]
  },
  {
   "cell_type": "code",
   "execution_count": 27,
   "id": "fab75652-42ec-41eb-8635-4d1ae548403b",
   "metadata": {},
   "outputs": [
    {
     "name": "stdout",
     "output_type": "stream",
     "text": [
      "22\n",
      "8\n"
     ]
    }
   ],
   "source": [
    "text = \"Samrath Katheria is a Developer.\"\n",
    "\n",
    "index1 = text.index(\"Developer\") \n",
    "print(index1)\n",
    "\n",
    "index2 = text.find(\"Katheria\") \n",
    "print(index2)"
   ]
  },
  {
   "cell_type": "markdown",
   "id": "b32e8c52-3f95-472f-9b36-1b55f1a2fd8e",
   "metadata": {},
   "source": [
    "13. How can you count the number of occurrences of a substring within a string?"
   ]
  },
  {
   "cell_type": "code",
   "execution_count": 29,
   "id": "098c8c96-e47b-4cc8-ba84-3cbfdfbd79ff",
   "metadata": {},
   "outputs": [
    {
     "name": "stdout",
     "output_type": "stream",
     "text": [
      "2\n"
     ]
    }
   ],
   "source": [
    "string = \"Hello, world! Hello, Python!\"\n",
    "substring = \"Hello\"\n",
    "\n",
    "count = string.count(substring)\n",
    "\n",
    "print(count) "
   ]
  },
  {
   "cell_type": "markdown",
   "id": "9a2b3482-609c-416e-ac60-d054fda323b9",
   "metadata": {},
   "source": [
    "14. How do you check if a string contains only alphabetic characters?"
   ]
  },
  {
   "cell_type": "code",
   "execution_count": 67,
   "id": "2f2543c6-54c2-46db-858e-43a54981a4f6",
   "metadata": {},
   "outputs": [
    {
     "name": "stdout",
     "output_type": "stream",
     "text": [
      "The string contains non-alphabetic characters.\n"
     ]
    }
   ],
   "source": [
    "my_string = \"Hello World\"\n",
    "\n",
    "if my_string.():\n",
    "    print(\"The string contains only alphabetic characters.\")\n",
    "else:\n",
    "    print(\"The string contains non-alphabetic characters.\")\n"
   ]
  },
  {
   "cell_type": "markdown",
   "id": "ce287c9d-ecaa-4fec-8f39-b3c5e967e5cc",
   "metadata": {},
   "source": [
    "15. How do you check if a string contains only numeric characters?"
   ]
  },
  {
   "cell_type": "code",
   "execution_count": 33,
   "id": "9858865c-b6a6-4ac0-b88f-7cde3924ff13",
   "metadata": {},
   "outputs": [
    {
     "name": "stdout",
     "output_type": "stream",
     "text": [
      "The string contains only numeric characters.\n"
     ]
    }
   ],
   "source": [
    "my_string = \"12345\"\n",
    "\n",
    "if my_string.isnumeric():\n",
    "    print(\"The string contains only numeric characters.\")\n",
    "else:\n",
    "    print(\"The string does not contain only numeric characters.\")\n"
   ]
  },
  {
   "cell_type": "markdown",
   "id": "81ab2f2e-1936-44cc-a9d1-a8b2e2b84ef0",
   "metadata": {},
   "source": [
    "16. How can you check if a string is a palindrome?"
   ]
  },
  {
   "cell_type": "code",
   "execution_count": 69,
   "id": "1d694d19-0a45-4738-a668-c62b92173745",
   "metadata": {},
   "outputs": [
    {
     "name": "stdout",
     "output_type": "stream",
     "text": [
      "Yes\n"
     ]
    }
   ],
   "source": [
    "# function which return reverse of a string\n",
    "\n",
    "def isPalindrome(s):\n",
    "    return s == s[::-1]\n",
    "\n",
    "\n",
    "# Driver code\n",
    "s = \"malayalam\"\n",
    "ans = isPalindrome(s)\n",
    "\n",
    "if ans:\n",
    "    print(\"Yes\")\n",
    "else:\n",
    "    print(\"No\")\n"
   ]
  },
  {
   "cell_type": "markdown",
   "id": "5afccb2e-3339-4412-bd3b-8ebc245d83e1",
   "metadata": {},
   "source": [
    "17. How can you reverse a string in Python?"
   ]
  },
  {
   "cell_type": "code",
   "execution_count": 36,
   "id": "c758682e-8b7f-467f-b3f9-d10d4ddb7b9c",
   "metadata": {},
   "outputs": [
    {
     "name": "stdout",
     "output_type": "stream",
     "text": [
      "dlroW olleH\n"
     ]
    }
   ],
   "source": [
    "my_string = \"Hello World\"\n",
    "reversed_string = my_string[::-1]\n",
    "\n",
    "print(reversed_string)"
   ]
  },
  {
   "cell_type": "markdown",
   "id": "16f0b3b5-1771-4715-b7b3-515cde980d9b",
   "metadata": {},
   "source": [
    "18. How do you format a string with placeholders for variable values?"
   ]
  },
  {
   "cell_type": "code",
   "execution_count": 38,
   "id": "57deae89-3b0e-48b3-bb2b-a8877a761dd0",
   "metadata": {},
   "outputs": [
    {
     "name": "stdout",
     "output_type": "stream",
     "text": [
      "Hello, my name is Alice and I am 30 years old.\n"
     ]
    }
   ],
   "source": [
    "name = \"Alice\"\n",
    "age = 30\n",
    "\n",
    "print(f\"Hello, my name is {name} and I am {age} years old.\")\n"
   ]
  },
  {
   "cell_type": "markdown",
   "id": "bd2e4c5e-411d-4c1b-a4a2-08888a2575c4",
   "metadata": {},
   "source": [
    "19. How do you access a substring of a string using slicing?"
   ]
  },
  {
   "cell_type": "code",
   "execution_count": 40,
   "id": "7b1bbb3e-0d60-47a8-ac61-22a3589d7024",
   "metadata": {},
   "outputs": [
    {
     "name": "stdout",
     "output_type": "stream",
     "text": [
      "Hello\n",
      "World!\n",
      "Hlo ol!\n"
     ]
    }
   ],
   "source": [
    "my_string = \"Hello, World!\"\n",
    "\n",
    "print(my_string[0:5]) \n",
    "print(my_string[7:]) \n",
    "print(my_string[::2])"
   ]
  },
  {
   "cell_type": "markdown",
   "id": "1565d12b-0f2b-439f-bcf2-c0147ee1dba2",
   "metadata": {},
   "source": [
    "20. How can you remove specific characters from a string in Python?"
   ]
  },
  {
   "cell_type": "code",
   "execution_count": 42,
   "id": "95b49318-ded2-47fd-ac4d-090f5c3566fc",
   "metadata": {},
   "outputs": [
    {
     "name": "stdout",
     "output_type": "stream",
     "text": [
      "Hello World!\n"
     ]
    }
   ],
   "source": [
    "my_string = \"Hello, World!\"\n",
    "new_string = my_string.replace(\",\", \"\")\n",
    "print(new_string)"
   ]
  }
 ],
 "metadata": {
  "kernelspec": {
   "display_name": "Python 3 (ipykernel)",
   "language": "python",
   "name": "python3"
  },
  "language_info": {
   "codemirror_mode": {
    "name": "ipython",
    "version": 3
   },
   "file_extension": ".py",
   "mimetype": "text/x-python",
   "name": "python",
   "nbconvert_exporter": "python",
   "pygments_lexer": "ipython3",
   "version": "3.12.4"
  }
 },
 "nbformat": 4,
 "nbformat_minor": 5
}
